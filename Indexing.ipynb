{
 "cells": [
  {
   "cell_type": "code",
   "execution_count": null,
   "metadata": {},
   "outputs": [
    {
     "name": "stdout",
     "output_type": "stream",
     "text": [
      "a:append\n",
      "  d:Display\n",
      "  i:index\n",
      "\n",
      "Enter your choice: a\n",
      "Enter a value to add: 1\n",
      "[1]\n",
      "Enter your choice: a\n",
      "Enter a value to add: 2\n",
      "[1, 2]\n",
      "Enter your choice: a\n",
      "Enter a value to add: 1\n",
      "[1, 2, 1]\n",
      "Enter your choice: d\n",
      "1\n",
      "2\n",
      "1\n",
      "Enter your choice: i\n",
      "0\n",
      "1\n",
      "2\n",
      "Enter an index: 1\n",
      "2\n"
     ]
    }
   ],
   "source": [
    "mylist=[]\n",
    "print('a:append\\n  d:Display\\n  i:index\\n')\n",
    "Enter= True\n",
    "while Enter:\n",
    "    x=input('Enter your choice: ')\n",
    "    if x=='a':\n",
    "        n=int(input(\"Enter a value to add: \"))\n",
    "        mylist.append(n)\n",
    "        print(mylist)\n",
    "    elif x=='d':\n",
    "        for item in mylist:\n",
    "            print(item)\n",
    "    elif x=='i':\n",
    "        if len(mylist)==0:\n",
    "            print('List is empty')\n",
    "        else:\n",
    "            for index in range(len(mylist)): \n",
    "                print(index)\n",
    "            n=int(input(\"Enter an index: \"))\n",
    "            print(mylist[n])\n",
    "                \n",
    "            "
   ]
  },
  {
   "cell_type": "code",
   "execution_count": null,
   "metadata": {},
   "outputs": [],
   "source": []
  },
  {
   "cell_type": "code",
   "execution_count": null,
   "metadata": {},
   "outputs": [],
   "source": []
  }
 ],
 "metadata": {
  "kernelspec": {
   "display_name": "Python 3",
   "language": "python",
   "name": "python3"
  },
  "language_info": {
   "codemirror_mode": {
    "name": "ipython",
    "version": 3
   },
   "file_extension": ".py",
   "mimetype": "text/x-python",
   "name": "python",
   "nbconvert_exporter": "python",
   "pygments_lexer": "ipython3",
   "version": "3.7.4"
  }
 },
 "nbformat": 4,
 "nbformat_minor": 2
}
