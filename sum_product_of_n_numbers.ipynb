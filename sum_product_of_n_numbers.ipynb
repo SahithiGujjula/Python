{
 "cells": [
  {
   "cell_type": "code",
   "execution_count": null,
   "metadata": {},
   "outputs": [
    {
     "name": "stdout",
     "output_type": "stream",
     "text": [
      "Enter n value: 5\n",
      "Choose sum or product: sum\n",
      "15\n",
      "Enter n value: 4\n",
      "Choose sum or product: product\n",
      "24\n"
     ]
    }
   ],
   "source": [
    "Enter= True\n",
    "while Enter:\n",
    "    n= (int(input(\"Enter n value: \")))\n",
    "    choice= (input(\"Choose sum or product: \"))\n",
    "    if choice=='sum':\n",
    "        sum=0\n",
    "        for x in range(1, n+1):\n",
    "            sum+=x\n",
    "        print(sum)\n",
    "    elif choice=='product':\n",
    "        product=1\n",
    "        for x in range(1, n+1):\n",
    "            product= product*x\n",
    "        print(product)"
   ]
  },
  {
   "cell_type": "code",
   "execution_count": null,
   "metadata": {},
   "outputs": [],
   "source": []
  }
 ],
 "metadata": {
  "kernelspec": {
   "display_name": "Python 3",
   "language": "python",
   "name": "python3"
  },
  "language_info": {
   "codemirror_mode": {
    "name": "ipython",
    "version": 3
   },
   "file_extension": ".py",
   "mimetype": "text/x-python",
   "name": "python",
   "nbconvert_exporter": "python",
   "pygments_lexer": "ipython3",
   "version": "3.7.4"
  }
 },
 "nbformat": 4,
 "nbformat_minor": 2
}
