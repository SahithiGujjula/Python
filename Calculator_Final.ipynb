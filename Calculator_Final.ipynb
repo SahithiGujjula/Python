{
 "cells": [
  {
   "cell_type": "code",
   "execution_count": null,
   "metadata": {},
   "outputs": [
    {
     "name": "stdout",
     "output_type": "stream",
     "text": [
      "Welcome to Sahithi's Calculator\n",
      "Choose from below options\n",
      "  a:addition\n",
      "  s:substraction\n",
      "  m:multiplication\n",
      "  d:division\n",
      "  q:quit\n",
      "Enter your option: g\n",
      "Enter right option: \n"
     ]
    }
   ],
   "source": [
    "print(\"Welcome to Sahithi's Calculator\")\n",
    "print(\"Choose from below options\\n  a:addition\\n  s:substraction\\n  m:multiplication\\n  d:division\\n  q:quit\")\n",
    "Enter=True\n",
    "while Enter:\n",
    "    n=input(\"Enter your option: \")\n",
    "    if n=='q':\n",
    "        Enter = False \n",
    "    else:\n",
    "        if (n=='a' or n=='s' or n=='m' or n=='d'):\n",
    "            x= int(input(\"Enter x value: \"))\n",
    "            y= int(input(\"Enter y value: \"))    \n",
    "        if n=='a':\n",
    "            print(x,'+',y,'=',x+y)\n",
    "        elif n=='s':\n",
    "            print(x,'-',y,'=',x-y)\n",
    "        elif n=='m':\n",
    "            print(x,'*',y,'=',x*y)\n",
    "        elif n=='d':\n",
    "            print(x,'/',y,'=',x/y)\n",
    "        else:\n",
    "            print(\"Enter right option: \")"
   ]
  },
  {
   "cell_type": "code",
   "execution_count": null,
   "metadata": {},
   "outputs": [],
   "source": []
  },
  {
   "cell_type": "code",
   "execution_count": null,
   "metadata": {},
   "outputs": [],
   "source": []
  }
 ],
 "metadata": {
  "kernelspec": {
   "display_name": "Python 3",
   "language": "python",
   "name": "python3"
  },
  "language_info": {
   "codemirror_mode": {
    "name": "ipython",
    "version": 3
   },
   "file_extension": ".py",
   "mimetype": "text/x-python",
   "name": "python",
   "nbconvert_exporter": "python",
   "pygments_lexer": "ipython3",
   "version": "3.7.4"
  }
 },
 "nbformat": 4,
 "nbformat_minor": 2
}
