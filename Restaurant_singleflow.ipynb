{
 "cells": [
  {
   "cell_type": "code",
   "execution_count": null,
   "metadata": {},
   "outputs": [],
   "source": [
    "print(\"Welcome to Sahithi's Restaurant\")\n",
    "print(\"Select from options below\\n  d:Drinks\\n  a:Appetizers\\n  m:Main course\\n  s:Desserts\\n  e:Extras\\n  q:Quit\")\n",
    "x= input(\"Enter your choice: \")\n",
    "if x=='d':\n",
    "    print('we serve below drinks\\n  Cocacola\\n  Pepsi\\n  Lemonaid')\n",
    "if x=='a':\n",
    "    print('We serve below appetizers\\n  Shrimp fry\\n  Chicken65\\n  Lamb chops')\n",
    "if x=='m':\n",
    "    print('We serve below main course\\n  Cashew Fry Chicken Biryani\\n  Gongura Mutton\\n  Prawns Biryani')\n",
    "if x=='s':\n",
    "    print('We serve below desserts\\n  Chocolava cake\\n  Chocolate Brownie\\n  Truffle Chocolate ')\n",
    "if x=='e':\n",
    "    print('We serve extras\\n  Mango Lassi\\n  Ragi Malt\\n  Coconut Yogurt')\n",
    "    print(\"Thank You\")\n",
    "    "
   ]
  },
  {
   "cell_type": "code",
   "execution_count": null,
   "metadata": {},
   "outputs": [],
   "source": []
  },
  {
   "cell_type": "code",
   "execution_count": null,
   "metadata": {},
   "outputs": [],
   "source": []
  }
 ],
 "metadata": {
  "kernelspec": {
   "display_name": "Python 3",
   "language": "python",
   "name": "python3"
  },
  "language_info": {
   "codemirror_mode": {
    "name": "ipython",
    "version": 3
   },
   "file_extension": ".py",
   "mimetype": "text/x-python",
   "name": "python",
   "nbconvert_exporter": "python",
   "pygments_lexer": "ipython3",
   "version": "3.7.4"
  }
 },
 "nbformat": 4,
 "nbformat_minor": 2
}
