{
 "cells": [
  {
   "cell_type": "code",
   "execution_count": null,
   "metadata": {},
   "outputs": [
    {
     "name": "stdout",
     "output_type": "stream",
     "text": [
      "Enter an item to find: 1\n",
      "The item 1 found at 0 position\n",
      "Enter an item to find: 3\n",
      "3 not found in list\n"
     ]
    }
   ],
   "source": [
    "mylist=[1,2,1,5]\n",
    "Enter= True\n",
    "while True:\n",
    "    item=int(input(\"Enter an item to find: \"))\n",
    "    try :\n",
    "        index= mylist.index(item)\n",
    "        print('The item',item,'found at',index,'position')\n",
    "    except ValueError:\n",
    "        print(item,'not found in list')"
   ]
  },
  {
   "cell_type": "code",
   "execution_count": null,
   "metadata": {},
   "outputs": [],
   "source": []
  }
 ],
 "metadata": {
  "kernelspec": {
   "display_name": "Python 3",
   "language": "python",
   "name": "python3"
  },
  "language_info": {
   "codemirror_mode": {
    "name": "ipython",
    "version": 3
   },
   "file_extension": ".py",
   "mimetype": "text/x-python",
   "name": "python",
   "nbconvert_exporter": "python",
   "pygments_lexer": "ipython3",
   "version": "3.7.4"
  }
 },
 "nbformat": 4,
 "nbformat_minor": 2
}
