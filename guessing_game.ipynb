{
 "cells": [
  {
   "cell_type": "code",
   "execution_count": 7,
   "metadata": {},
   "outputs": [
    {
     "name": "stdout",
     "output_type": "stream",
     "text": [
      "You've only  7  chances\n",
      "Guess a number: 25\n",
      "You guessed too small!\n",
      "Guess a number: 50\n",
      "You Guessed too high!\n",
      "Guess a number: 35\n",
      "You Guessed too high!\n",
      "Guess a number: 27\n",
      "You guessed too small!\n",
      "Guess a number: 30\n",
      "You Guessed too high!\n",
      "Guess a number: 29\n",
      "Correct, you did it in 6 tries\n"
     ]
    }
   ],
   "source": [
    "import random\n",
    "import math\n",
    "x= random.randint(1,100)\n",
    "print(\"You've only \", 7,\" chances\")\n",
    "count=0\n",
    "while count< 7:\n",
    "    count+=1\n",
    "    guess= int(input(\"Guess a number: \"))\n",
    "    if x== guess:\n",
    "        print(\"Correct, you did it in\", count, \"tries\")\n",
    "        break\n",
    "    elif x > guess:\n",
    "       print(\"You guessed too small!\")\n",
    "    elif x < guess:\n",
    "       print(\"You Guessed too high!\")\n",
    "if count >= math.log(100 - (1 + 1), 2):\n",
    "   print(\"The number is \", x )\n",
    "   print(\"Better Luck Next time!\")"
   ]
  },
  {
   "cell_type": "code",
   "execution_count": null,
   "metadata": {},
   "outputs": [],
   "source": []
  }
 ],
 "metadata": {
  "kernelspec": {
   "display_name": "Python 3",
   "language": "python",
   "name": "python3"
  },
  "language_info": {
   "codemirror_mode": {
    "name": "ipython",
    "version": 3
   },
   "file_extension": ".py",
   "mimetype": "text/x-python",
   "name": "python",
   "nbconvert_exporter": "python",
   "pygments_lexer": "ipython3",
   "version": "3.7.4"
  }
 },
 "nbformat": 4,
 "nbformat_minor": 2
}
