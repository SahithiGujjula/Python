{
 "cells": [
  {
   "cell_type": "code",
   "execution_count": 20,
   "metadata": {},
   "outputs": [
    {
     "name": "stdout",
     "output_type": "stream",
     "text": [
      "Enter a value: 4\n",
      "Number\n"
     ]
    }
   ],
   "source": [
    "x =input(\"Enter a value: \")\n",
    "if x=='a' or x=='b' or x=='c' or x=='d' or x=='e' or x=='f' or x=='g' or x=='h' or x=='i' or x=='j' or x=='k' or x=='l' or x=='m' or x=='n' or x=='o' or x=='p' or x=='q' or x=='r' or x=='s' or x=='t' or x=='u' or x=='v' or x=='w' or x=='x' or x=='y' or x=='z':\n",
    "    print(\"Alphabets\")\n",
    "if x>='0' and x<='9':\n",
    "    print(\"Number\")\n",
    "else:\n",
    "    print(\"Not defined\")"
   ]
  },
  {
   "cell_type": "code",
   "execution_count": null,
   "metadata": {},
   "outputs": [],
   "source": []
  }
 ],
 "metadata": {
  "kernelspec": {
   "display_name": "Python 3",
   "language": "python",
   "name": "python3"
  },
  "language_info": {
   "codemirror_mode": {
    "name": "ipython",
    "version": 3
   },
   "file_extension": ".py",
   "mimetype": "text/x-python",
   "name": "python",
   "nbconvert_exporter": "python",
   "pygments_lexer": "ipython3",
   "version": "3.7.4"
  }
 },
 "nbformat": 4,
 "nbformat_minor": 2
}
