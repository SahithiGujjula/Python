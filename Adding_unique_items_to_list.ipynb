{
 "cells": [
  {
   "cell_type": "code",
   "execution_count": null,
   "metadata": {},
   "outputs": [
    {
     "name": "stdout",
     "output_type": "stream",
     "text": [
      "Choose from the options below\n",
      "  a:append\n",
      "  d:display\n",
      "\n",
      "Enter an option: a\n",
      "Enter a value: 1\n",
      "Enter an option: a\n",
      "Enter a value: 1\n",
      "item already present\n",
      "Enter an option: a\n",
      "Enter a value: 2\n",
      "Enter an option: d\n",
      "[1, 2]\n"
     ]
    }
   ],
   "source": [
    "K=[]\n",
    "print(\"Choose from the options below\\n  a:append\\n  d:display\\n\")\n",
    "Enter= True\n",
    "while Enter:\n",
    "    x=input(\"Enter an option: \")\n",
    "    if x=='a':\n",
    "        n=int(input('Enter a value: '))\n",
    "        if not n in K:\n",
    "            K.append(n)\n",
    "        else:\n",
    "            print('item already present')\n",
    "    if x=='d':\n",
    "        print(K)"
   ]
  },
  {
   "cell_type": "code",
   "execution_count": null,
   "metadata": {},
   "outputs": [],
   "source": []
  }
 ],
 "metadata": {
  "kernelspec": {
   "display_name": "Python 3",
   "language": "python",
   "name": "python3"
  },
  "language_info": {
   "codemirror_mode": {
    "name": "ipython",
    "version": 3
   },
   "file_extension": ".py",
   "mimetype": "text/x-python",
   "name": "python",
   "nbconvert_exporter": "python",
   "pygments_lexer": "ipython3",
   "version": "3.7.4"
  }
 },
 "nbformat": 4,
 "nbformat_minor": 2
}
