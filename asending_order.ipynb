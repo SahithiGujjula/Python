{
 "cells": [
  {
   "cell_type": "code",
   "execution_count": 22,
   "metadata": {},
   "outputs": [
    {
     "name": "stdout",
     "output_type": "stream",
     "text": [
      "Enter a value: 3\n",
      "Enter b value: 2\n",
      "Enter c value: 1\n",
      "1 2 3\n"
     ]
    }
   ],
   "source": [
    "a=int(input(\"Enter a value: \"))\n",
    "b=int(input(\"Enter b value: \"))\n",
    "c=int(input(\"Enter c value: \"))\n",
    "if a<b<c:\n",
    "    print(a,b,c)\n",
    "elif a<c<b:\n",
    "    print(a,c,b)\n",
    "elif b<a<c:\n",
    "    print(b,a,c)\n",
    "elif b<c<a:\n",
    "    print(b,c,a)\n",
    "elif c<b<a:\n",
    "    print(c,b,a)\n",
    "else:\n",
    "    print(c,a,b)"
   ]
  },
  {
   "cell_type": "code",
   "execution_count": null,
   "metadata": {},
   "outputs": [],
   "source": []
  },
  {
   "cell_type": "code",
   "execution_count": null,
   "metadata": {},
   "outputs": [],
   "source": []
  }
 ],
 "metadata": {
  "kernelspec": {
   "display_name": "Python 3",
   "language": "python",
   "name": "python3"
  },
  "language_info": {
   "codemirror_mode": {
    "name": "ipython",
    "version": 3
   },
   "file_extension": ".py",
   "mimetype": "text/x-python",
   "name": "python",
   "nbconvert_exporter": "python",
   "pygments_lexer": "ipython3",
   "version": "3.7.4"
  }
 },
 "nbformat": 4,
 "nbformat_minor": 2
}
