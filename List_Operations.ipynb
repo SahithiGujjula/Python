{
 "cells": [
  {
   "cell_type": "code",
   "execution_count": null,
   "metadata": {},
   "outputs": [
    {
     "name": "stdout",
     "output_type": "stream",
     "text": [
      "Welcome to Python List: \n",
      "Options to manage list\n",
      "  a:append()\n",
      "  p:pop()\n",
      "  c:clear()\n",
      "  l:length()\n",
      "  i:index()\n",
      "  e:insert()\n",
      "  r:reverse()\n",
      "  s:sort()\n",
      "  d:display()\n",
      "\n",
      "Enter a option of your choice: a\n",
      "Enter a value: 1\n",
      "[1]\n",
      "Enter a option of your choice: a\n",
      "Enter a value: 1\n",
      "[1, 1]\n",
      "Enter a option of your choice: a\n",
      "Enter a value: 5\n",
      "[1, 1, 5]\n",
      "Enter a option of your choice: i\n",
      "Enter n value: 1\n",
      "0\n",
      "Enter a option of your choice: 5\n",
      "Enter a option of your choice: i\n",
      "Enter n value: 5\n",
      "2\n"
     ]
    }
   ],
   "source": [
    "mylist= []\n",
    "print(\"Welcome to Python List: \")\n",
    "print(\"Options to manage list\\n  a:append()\\n  p:pop()\\n  c:clear()\\n  l:length()\\n  i:index()\\n  e:insert()\\n  r:reverse()\\n  s:sort()\\n  d:display()\\n\")\n",
    "Enter= True\n",
    "while Enter:\n",
    "    x= input(\"Enter a option of your choice: \")\n",
    "    if x=='a':\n",
    "        n=int(input('Enter a value: '))\n",
    "        mylist.append(n)\n",
    "        print(mylist)\n",
    "    if x=='p':\n",
    "        if len(mylist)==0:\n",
    "            print(\"list is empty\")\n",
    "        else:\n",
    "            n=int(input('Enter index value to pop: '))\n",
    "            if n>len(mylist):\n",
    "                print('pop index out of range')\n",
    "            else:\n",
    "                mylist.pop(n)\n",
    "                print(mylist)\n",
    "    if x=='c':\n",
    "        mylist.clear()\n",
    "        print(mylist)\n",
    "    if x=='l':\n",
    "        length=len(mylist)\n",
    "        print(length)\n",
    "    if x=='i':\n",
    "        if len(mylist)==0:\n",
    "            print('List is empty')\n",
    "        else:\n",
    "            n=int(input('Enter n value: '))\n",
    "            mylist.index(n)\n",
    "            print(mylist.index(n))\n",
    "    if x=='e':\n",
    "        z=int(input(\"Enter index value: \"))\n",
    "        if z>len(mylist):\n",
    "            print(\"insert index out of range\")\n",
    "        else:\n",
    "            y= int(input('enter a value to insert: '))\n",
    "            mylist.insert(z, y)\n",
    "            print(mylist)\n",
    "    if x=='r':\n",
    "        mylist.reverse()\n",
    "        print(mylist)\n",
    "    if x=='s':\n",
    "        mylist.sort()\n",
    "        print(mylist)\n",
    "    if x=='d':\n",
    "        print(mylist)\n",
    "\n",
    "        "
   ]
  },
  {
   "cell_type": "code",
   "execution_count": null,
   "metadata": {},
   "outputs": [],
   "source": []
  },
  {
   "cell_type": "code",
   "execution_count": null,
   "metadata": {},
   "outputs": [],
   "source": []
  }
 ],
 "metadata": {
  "kernelspec": {
   "display_name": "Python 3",
   "language": "python",
   "name": "python3"
  },
  "language_info": {
   "codemirror_mode": {
    "name": "ipython",
    "version": 3
   },
   "file_extension": ".py",
   "mimetype": "text/x-python",
   "name": "python",
   "nbconvert_exporter": "python",
   "pygments_lexer": "ipython3",
   "version": "3.7.4"
  }
 },
 "nbformat": 4,
 "nbformat_minor": 2
}
