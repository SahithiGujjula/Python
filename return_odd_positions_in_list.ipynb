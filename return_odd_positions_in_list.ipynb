{
 "cells": [
  {
   "cell_type": "code",
   "execution_count": 11,
   "metadata": {},
   "outputs": [
    {
     "name": "stdout",
     "output_type": "stream",
     "text": [
      "Original list:  [0, 1, 2, 3, 4, 5, 6, 7]\n",
      "Odd positions:  [1, 3, 5, 7]\n"
     ]
    }
   ],
   "source": [
    "mylist=[0, 1, 2, 3, 4, 5, 6, 7]\n",
    "print(\"Original list: \",mylist)\n",
    "\n",
    "odd_positions= mylist[1:8:2]\n",
    "print(\"Odd positions: \",odd_positions)"
   ]
  },
  {
   "cell_type": "code",
   "execution_count": 31,
   "metadata": {},
   "outputs": [
    {
     "name": "stdout",
     "output_type": "stream",
     "text": [
      "['pos1', 'pos3']\n"
     ]
    }
   ],
   "source": [
    "list2 = ['pos0', 'pos1', 'pos2', 'pos3']\n",
    "x = []\n",
    "count = 0\n",
    "for i in list2:\n",
    "    if count % 2 == 1:\n",
    "        x.append(i)\n",
    "    count += 1\n",
    "print(x)"
   ]
  },
  {
   "cell_type": "code",
   "execution_count": 28,
   "metadata": {},
   "outputs": [],
   "source": [
    "def odd_positions(myarr):\n",
    "    new_arr= []\n",
    "    count= 0\n",
    "    for element in myarr:\n",
    "        if count%2==1:\n",
    "            new_arr.append(element)\n",
    "        count+=1\n",
    "    return new_arr"
   ]
  },
  {
   "cell_type": "code",
   "execution_count": 29,
   "metadata": {},
   "outputs": [
    {
     "data": {
      "text/plain": [
       "[2, 3, 1]"
      ]
     },
     "execution_count": 29,
     "metadata": {},
     "output_type": "execute_result"
    }
   ],
   "source": [
    "myarr= [1, 2, 3, 3, 5, 1]\n",
    "odd_positions(myarr)"
   ]
  },
  {
   "cell_type": "code",
   "execution_count": null,
   "metadata": {},
   "outputs": [],
   "source": []
  }
 ],
 "metadata": {
  "kernelspec": {
   "display_name": "Python 3",
   "language": "python",
   "name": "python3"
  },
  "language_info": {
   "codemirror_mode": {
    "name": "ipython",
    "version": 3
   },
   "file_extension": ".py",
   "mimetype": "text/x-python",
   "name": "python",
   "nbconvert_exporter": "python",
   "pygments_lexer": "ipython3",
   "version": "3.7.4"
  }
 },
 "nbformat": 4,
 "nbformat_minor": 2
}
